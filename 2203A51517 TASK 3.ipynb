{
  "nbformat": 4,
  "nbformat_minor": 0,
  "metadata": {
    "colab": {
      "provenance": []
    },
    "kernelspec": {
      "name": "python3",
      "display_name": "Python 3"
    },
    "language_info": {
      "name": "python"
    }
  },
  "cells": [
    {
      "cell_type": "code",
      "execution_count": 2,
      "metadata": {
        "colab": {
          "base_uri": "https://localhost:8080/"
        },
        "id": "PN5j2XnSjK0f",
        "outputId": "e2b3e190-7ea0-4d20-f4d8-fc652b6cd7b6"
      },
      "outputs": [
        {
          "output_type": "stream",
          "name": "stdout",
          "text": [
            "    name   age     rn   TM\n",
            "0  Anurag    21  1001  650\n",
            "1  Akshay    99  1002  654\n",
            "2    Balu    19  1003  620\n",
            "3   Alpha    18  1004  680\n",
            "    name   age   marks\n",
            "0  Kapoor    22     50\n",
            "1  Sharma    56     59\n",
            "2    Alia    34     81\n",
            "3   Bhanu    19     99\n",
            "Empty DataFrame\n",
            "Columns: [hello my name is anurag eating sleeping and repeati ng is my hobbie]\n",
            "Index: []\n"
          ]
        }
      ],
      "source": [
        "import pandas as pd\n",
        "data_excel=pd.read_excel('/content/AIML/Book2.xlsx')\n",
        "data_csv=pd.read_csv('/content/AIML/Book1.csv')\n",
        "data_tsv=pd.read_csv('/content/AIML/book3.tsv',sep='\\t')\n",
        "#data_url=pd.read_url('')\n",
        "print(data_csv)\n",
        "print(data_excel)\n",
        "print(data_tsv)"
      ]
    }
  ]
}