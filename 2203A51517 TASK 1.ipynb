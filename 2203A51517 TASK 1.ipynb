{
  "nbformat": 4,
  "nbformat_minor": 0,
  "metadata": {
    "colab": {
      "provenance": []
    },
    "kernelspec": {
      "name": "python3",
      "display_name": "Python 3"
    },
    "language_info": {
      "name": "python"
    }
  },
  "cells": [
    {
      "cell_type": "code",
      "execution_count": 1,
      "metadata": {
        "colab": {
          "base_uri": "https://localhost:8080/"
        },
        "id": "qmCDPiMLQ8DT",
        "outputId": "479aed99-2a1d-489a-972c-5b05e0a909c4"
      },
      "outputs": [
        {
          "output_type": "stream",
          "name": "stdout",
          "text": [
            "[1, 2, 3, 4, 5, 4, 5, 6, 7, 8]\n",
            "<class 'list'>\n"
          ]
        }
      ],
      "source": [
        "l1=[1,2,3,4,5]\n",
        "l2=[4,5,6,7,8]\n",
        "a=l1+l2\n",
        "print(a)\n",
        "print(type(a))"
      ]
    },
    {
      "cell_type": "code",
      "source": [
        "import numpy as np\n",
        "list1 = np.array([1, 2, 3, 4, 5])\n",
        "print(list1)\n",
        "# Accessing elements\n",
        "print(list1[2])\n",
        "# Slicing\n",
        "print(list1[1:4])"
      ],
      "metadata": {
        "colab": {
          "base_uri": "https://localhost:8080/"
        },
        "id": "CkPUemtfRcQr",
        "outputId": "8033efe0-ee42-4bc0-a82c-0d479969a67d"
      },
      "execution_count": 2,
      "outputs": [
        {
          "output_type": "stream",
          "name": "stdout",
          "text": [
            "[1 2 3 4 5]\n",
            "3\n",
            "[2 3 4]\n"
          ]
        }
      ]
    },
    {
      "cell_type": "code",
      "source": [
        "import numpy as np\n",
        "l1=[1,2,3,4]\n",
        "l2=[6,7,8,9]\n",
        "a=np.array(l1)\n",
        "b=np.array(l2)\n",
        "print(a+b)\n",
        "print(type(a+b))"
      ],
      "metadata": {
        "colab": {
          "base_uri": "https://localhost:8080/"
        },
        "id": "Zx93xJrMRd5j",
        "outputId": "1b4324f8-e069-4a07-a2f1-28401a0df2ff"
      },
      "execution_count": 3,
      "outputs": [
        {
          "output_type": "stream",
          "name": "stdout",
          "text": [
            "[ 7  9 11 13]\n",
            "<class 'numpy.ndarray'>\n"
          ]
        }
      ]
    },
    {
      "cell_type": "code",
      "source": [
        "import numpy as np\n",
        "a=[[1,2,3],[4,5,6],[7,8,9]]\n",
        "b=[[1,3,4],[4,2,9],[1,2,3]]\n",
        "c=np.array(a)\n",
        "d=np.array(b)\n",
        "print(c+d)\n",
        "#multiplication\n",
        "e=np.matmul(a,b)\n",
        "print(e)\n",
        "f=np.power(a,b)\n",
        "print(f)\n",
        "g=np.divide(a,b)\n",
        "print(g)"
      ],
      "metadata": {
        "colab": {
          "base_uri": "https://localhost:8080/"
        },
        "id": "r_vNhbuLRk--",
        "outputId": "fa94fa6b-df52-4168-c605-467abf5175fe"
      },
      "execution_count": 4,
      "outputs": [
        {
          "output_type": "stream",
          "name": "stdout",
          "text": [
            "[[ 2  5  7]\n",
            " [ 8  7 15]\n",
            " [ 8 10 12]]\n",
            "[[ 12  13  31]\n",
            " [ 30  34  79]\n",
            " [ 48  55 127]]\n",
            "[[       1        8       81]\n",
            " [     256       25 10077696]\n",
            " [       7       64      729]]\n",
            "[[1.         0.66666667 0.75      ]\n",
            " [1.         2.5        0.66666667]\n",
            " [7.         4.         3.        ]]\n"
          ]
        }
      ]
    },
    {
      "cell_type": "markdown",
      "source": [],
      "metadata": {
        "id": "0asDc-OARyN5"
      }
    },
    {
      "cell_type": "code",
      "source": [
        "app=[1,3,2,4]\n",
        "s=np.sin(app)\n",
        "print(s)\n",
        "t=np.log(app)\n",
        "print(t)\n",
        "u=np.log2(app)\n",
        "print(u)\n",
        "v=np.exp(app)\n",
        "print(v)\n"
      ],
      "metadata": {
        "colab": {
          "base_uri": "https://localhost:8080/"
        },
        "id": "fcTR6UAKRpiE",
        "outputId": "b8f07aff-5cf4-4f3d-bdd3-8dcc9e258578"
      },
      "execution_count": 5,
      "outputs": [
        {
          "output_type": "stream",
          "name": "stdout",
          "text": [
            "[ 0.84147098  0.14112001  0.90929743 -0.7568025 ]\n",
            "[0.         1.09861229 0.69314718 1.38629436]\n",
            "[0.        1.5849625 1.        2.       ]\n",
            "[ 2.71828183 20.08553692  7.3890561  54.59815003]\n"
          ]
        }
      ]
    }
  ]
}